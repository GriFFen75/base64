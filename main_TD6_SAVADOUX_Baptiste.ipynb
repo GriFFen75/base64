{
 "cells": [
  {
   "cell_type": "markdown",
   "source": [
    "# TD6 – Python (6)\n",
    "### Les Class , Code64 et Analyse Fichiers"
   ],
   "metadata": {
    "collapsed": false,
    "pycharm": {
     "name": "#%% md\n"
    }
   }
  },
  {
   "cell_type": "markdown",
   "source": [
    "Exo2_1 :Étape 1"
   ],
   "metadata": {
    "collapsed": false,
    "pycharm": {
     "name": "#%% md\n"
    }
   }
  },
  {
   "cell_type": "code",
   "execution_count": 2,
   "outputs": [
    {
     "name": "stdout",
     "output_type": "stream",
     "text": [
      "48\n"
     ]
    }
   ],
   "source": [
    "def enAscii(lettre):\n",
    "    return ord(lettre)\n",
    "\n",
    "print(enAscii(\"0\"))"
   ],
   "metadata": {
    "collapsed": false,
    "pycharm": {
     "name": "#%%\n"
    }
   }
  },
  {
   "cell_type": "markdown",
   "source": [
    "Exo2_2 : Étape 2"
   ],
   "metadata": {
    "collapsed": false,
    "pycharm": {
     "name": "#%% md\n"
    }
   }
  },
  {
   "cell_type": "code",
   "execution_count": 3,
   "outputs": [
    {
     "name": "stdout",
     "output_type": "stream",
     "text": [
      "['01010011', '01100001', '01101100', '01110101', '01110100']\n"
     ]
    }
   ],
   "source": [
    "def listeBinaire(texte):\n",
    "    listBinaire=[]\n",
    "    for i in texte:\n",
    "        listBinaire.append(bin(enAscii(i)).replace(\"b\", \"\"))\n",
    "    return listBinaire\n",
    "\n",
    "print(listeBinaire(\"Salut\"))"
   ],
   "metadata": {
    "collapsed": false,
    "pycharm": {
     "name": "#%%\n"
    }
   }
  },
  {
   "cell_type": "markdown",
   "source": [
    "Exo2_3 : Étape 3"
   ],
   "metadata": {
    "collapsed": false,
    "pycharm": {
     "name": "#%% md\n"
    }
   }
  },
  {
   "cell_type": "code",
   "execution_count": 4,
   "outputs": [],
   "source": [
    "def verifmodulo(valeur, nb):\n",
    "    if len(valeur) % nb != 0:\n",
    "        valeur = valeur+\"0\"*(nb-len(valeur)%nb)\n",
    "\n",
    "    return valeur"
   ],
   "metadata": {
    "collapsed": false,
    "pycharm": {
     "name": "#%%\n"
    }
   }
  },
  {
   "cell_type": "code",
   "execution_count": 34,
   "outputs": [
    {
     "name": "stdout",
     "output_type": "stream",
     "text": [
      "0101001101100001011011000111010101110100\n"
     ]
    }
   ],
   "source": [
    "def stringBinaire(mot):\n",
    "    listBinaire = listeBinaire(mot)\n",
    "    textebinaire = \"\".join(listBinaire)\n",
    "    return textebinaire\n",
    "\n",
    "print(stringBinaire(\"Salut\"))"
   ],
   "metadata": {
    "collapsed": false,
    "pycharm": {
     "name": "#%%\n"
    }
   }
  },
  {
   "cell_type": "markdown",
   "source": [
    "Exo2_4 : Étape 4"
   ],
   "metadata": {
    "collapsed": false,
    "pycharm": {
     "name": "#%% md\n"
    }
   }
  },
  {
   "cell_type": "code",
   "execution_count": 40,
   "outputs": [
    {
     "name": "stdout",
     "output_type": "stream",
     "text": [
      "0100001 => base_64 => 33\n",
      "0011011 => base_64 => 27\n",
      "1101101 => base_64 => 109\n",
      "1100110 => base_64 => 102\n",
      "1010011 => base_64 => 83\n",
      "0111101 => base_64 => 61\n",
      "1101010 => base_64 => 106\n",
      "1110010 => base_64 => 114\n"
     ]
    },
    {
     "data": {
      "text/plain": "[33, 27, 109, 102, 83, 61, 106, 114]"
     },
     "execution_count": 40,
     "metadata": {},
     "output_type": "execute_result"
    }
   ],
   "source": [
    "def decoupeString(string, nb=6):\n",
    "    listValeurBin = []\n",
    "    listValeurDeci = []\n",
    "    binmot = stringBinaire(string)\n",
    "    modulo6 = verifmodulo(binmot, nb)\n",
    "    i=0\n",
    "    while i < len(modulo6):\n",
    "        b = modulo6[i:nb+i]\n",
    "        listValeurBin.append(b)\n",
    "        i+=nb\n",
    "        listValeurDeci.append(int(b, 2))\n",
    "\n",
    "    for j in range(len(listValeurBin)):\n",
    "        print(listValeurBin[j], \"=> base_64 =>\", listValeurDeci[j]) # pour que ca sois beau\n",
    "\n",
    "    return listValeurDeci\n",
    "\n",
    "\n",
    "\n",
    "decoupeString(\"Bonjour\", 7)"
   ],
   "metadata": {
    "collapsed": false,
    "pycharm": {
     "name": "#%%\n"
    }
   }
  },
  {
   "cell_type": "markdown",
   "source": [
    "Exo2_5 : Étape 5"
   ],
   "metadata": {
    "collapsed": false,
    "pycharm": {
     "name": "#%% md\n"
    }
   }
  },
  {
   "cell_type": "code",
   "execution_count": 7,
   "outputs": [
    {
     "name": "stdout",
     "output_type": "stream",
     "text": [
      "94\n"
     ]
    },
    {
     "data": {
      "text/plain": "{'A': 0,\n 'B': 1,\n 'C': 2,\n 'D': 3,\n 'E': 4,\n 'F': 5,\n 'G': 6,\n 'H': 7,\n 'I': 8,\n 'J': 9,\n 'K': 10,\n 'L': 11,\n 'M': 12,\n 'N': 13,\n 'O': 14,\n 'P': 15,\n 'Q': 16,\n 'R': 17,\n 'S': 18,\n 'T': 19,\n 'U': 20,\n 'V': 21,\n 'W': 22,\n 'X': 23,\n 'Y': 24,\n 'Z': 25,\n 'a': 26,\n 'b': 27,\n 'c': 28,\n 'd': 29,\n 'e': 30,\n 'f': 31,\n 'g': 32,\n 'h': 33,\n 'i': 34,\n 'j': 35,\n 'k': 36,\n 'l': 37,\n 'm': 38,\n 'n': 39,\n 'o': 40,\n 'p': 41,\n 'q': 42,\n 'r': 43,\n 's': 44,\n 't': 45,\n 'u': 46,\n 'v': 47,\n 'w': 48,\n 'x': 49,\n 'y': 50,\n 'z': 51,\n '0': 52,\n '1': 53,\n '2': 54,\n '3': 55,\n '4': 56,\n '5': 57,\n '6': 58,\n '7': 59,\n '8': 60,\n '9': 61,\n '!': 62,\n '\"': 63,\n '#': 64,\n '$': 65,\n '%': 66,\n '&': 67,\n \"'\": 68,\n '(': 69,\n ')': 70,\n '*': 71,\n '+': 72,\n ',': 73,\n '-': 74,\n '.': 75,\n '/': 76,\n ':': 77,\n ';': 78,\n '<': 79,\n '>': 80,\n '?': 81,\n '@': 82,\n '[': 83,\n '\\\\': 84,\n ']': 85,\n '^': 86,\n '_': 87,\n '`': 88,\n '{': 89,\n '|': 90,\n '}': 91,\n '~': 92,\n '=': 0}"
     },
     "execution_count": 7,
     "metadata": {},
     "output_type": "execute_result"
    }
   ],
   "source": [
    "#ABCDEFGHIJKLMNOPQRSTUVWXYZabcdefghijklmnopqrstuvwxyz0123456789+/=\n",
    "table_base64={}\n",
    "table_base93={}\n",
    "\n",
    "chaine_base64 = \"ABCDEFGHIJKLMNOPQRSTUVWXYZabcdefghijklmnopqrstuvwxyz0123456789+/=\"\n",
    "chaine_base93 = \"ABCDEFGHIJKLMNOPQRSTUVWXYZabcdefghijklmnopqrstuvwxyz0123456789!\\\"#$%&'()*+,-./:;<>?@[\\]^_`{|}~=\"\n",
    "print(len(chaine_base93))\n",
    "\n",
    "def creat_table(table_base, chaine_mot):\n",
    "\n",
    "    for i in range(len(chaine_mot)-1):\n",
    "        table_base[chaine_mot[i]]=i\n",
    "    table_base[\"=\"]=0\n",
    "    return table_base\n",
    "\n",
    "creat_table(table_base64, chaine_base64)\n",
    "creat_table(table_base93, chaine_base93)"
   ],
   "metadata": {
    "collapsed": false,
    "pycharm": {
     "name": "#%%\n"
    }
   }
  },
  {
   "cell_type": "code",
   "execution_count": 8,
   "outputs": [
    {
     "data": {
      "text/plain": "'9'"
     },
     "execution_count": 8,
     "metadata": {},
     "output_type": "execute_result"
    }
   ],
   "source": [
    "def cherche_key_Base(valeur, table_base):\n",
    "    for clef,value in table_base.items():\n",
    "        if valeur == value:\n",
    "            return clef\n",
    "\n",
    "cherche_key_Base(61, table_base64)"
   ],
   "metadata": {
    "collapsed": false,
    "pycharm": {
     "name": "#%%\n"
    }
   }
  },
  {
   "cell_type": "markdown",
   "source": [
    "Exo2_6 : Étape 6 / Exo2_7"
   ],
   "metadata": {
    "collapsed": false,
    "pycharm": {
     "name": "#%% md\n"
    }
   }
  },
  {
   "cell_type": "code",
   "execution_count": 30,
   "outputs": [
    {
     "name": "stdout",
     "output_type": "stream",
     "text": [
      "010100 => base_64 => 20\n",
      "110110 => base_64 => 54\n",
      "000101 => base_64 => 5\n",
      "101100 => base_64 => 44\n",
      "011101 => base_64 => 29\n",
      "010111 => base_64 => 23\n",
      "010000 => base_64 => 16\n",
      "U2FsdXQ=\n"
     ]
    }
   ],
   "source": [
    "def EncodeBase(texte, table_base):\n",
    "    chainebase64 = \"\"\n",
    "    listChiffre = decoupeString(texte)\n",
    "    for i in listChiffre:\n",
    "        chainebase64 = chainebase64 + cherche_key_Base(i, table_base)\n",
    "\n",
    "    binmot = stringBinaire(texte)\n",
    "    modulo6 = verifmodulo(binmot, nb=6)\n",
    "    nb_egale = len(modulo6) - len(binmot)\n",
    "\n",
    "    chainebase64 = chainebase64 + \"=\"*int(nb_egale//2)\n",
    "\n",
    "\n",
    "    return chainebase64\n",
    "\n",
    "print(EncodeBase(\"Salut\", table_base64))"
   ],
   "metadata": {
    "collapsed": false,
    "pycharm": {
     "name": "#%%\n"
    }
   }
  },
  {
   "cell_type": "markdown",
   "source": [
    "### Exercices 3 – Encodage en Code Base 64"
   ],
   "metadata": {
    "collapsed": false,
    "pycharm": {
     "name": "#%% md\n"
    }
   }
  },
  {
   "cell_type": "code",
   "execution_count": 10,
   "outputs": [
    {
     "data": {
      "text/plain": "5"
     },
     "execution_count": 10,
     "metadata": {},
     "output_type": "execute_result"
    }
   ],
   "source": [
    "def cherche_value_Base(keys, table_base):\n",
    "    for clef,value in table_base.items():\n",
    "        if keys == clef:\n",
    "            return value\n",
    "\n",
    "cherche_value_Base(\"F\", table_base64)"
   ],
   "metadata": {
    "collapsed": false,
    "pycharm": {
     "name": "#%%\n"
    }
   }
  },
  {
   "cell_type": "code",
   "execution_count": 22,
   "outputs": [
    {
     "data": {
      "text/plain": "'000001'"
     },
     "execution_count": 22,
     "metadata": {},
     "output_type": "execute_result"
    }
   ],
   "source": [
    "def verifmodulo6(valeur):\n",
    "    if len(valeur) % 6 != 0:\n",
    "        valeur = \"0\"*(6-len(valeur)%6)+valeur\n",
    "\n",
    "    return valeur\n",
    "\n",
    "verifmodulo6(\"001\")"
   ],
   "metadata": {
    "collapsed": false,
    "pycharm": {
     "name": "#%%\n"
    }
   }
  },
  {
   "cell_type": "code",
   "execution_count": 35,
   "outputs": [
    {
     "data": {
      "text/plain": "['011010']"
     },
     "execution_count": 35,
     "metadata": {},
     "output_type": "execute_result"
    }
   ],
   "source": [
    "def DeciToBin(lettre, table_base):\n",
    "    list_nombre =  []\n",
    "    lettre = lettre.replace(\"=\",\"\")\n",
    "    for i in lettre:\n",
    "\n",
    "        nombre = bin(cherche_value_Base(i, table_base)).replace(\"b\", \"\")\n",
    "        if len(nombre)>6:\n",
    "            nombre = nombre[1:]\n",
    "        elif len(nombre)<6:\n",
    "            nombre = verifmodulo6(nombre)\n",
    "\n",
    "        list_nombre.append(nombre)\n",
    "    return list_nombre\n",
    "\n",
    "DeciToBin(\"a\", table_base64)"
   ],
   "metadata": {
    "collapsed": false,
    "pycharm": {
     "name": "#%%\n"
    }
   }
  },
  {
   "cell_type": "code",
   "execution_count": 12,
   "outputs": [
    {
     "data": {
      "text/plain": "'ab'"
     },
     "execution_count": 12,
     "metadata": {},
     "output_type": "execute_result"
    }
   ],
   "source": [
    "def regroupeString(list):\n",
    "    chaine_regroupe = ''.join(list)\n",
    "    return chaine_regroupe\n",
    "\n",
    "regroupeString([\"a\", \"b\"])"
   ],
   "metadata": {
    "collapsed": false,
    "pycharm": {
     "name": "#%%\n"
    }
   }
  },
  {
   "cell_type": "code",
   "execution_count": 36,
   "outputs": [
    {
     "name": "stdout",
     "output_type": "stream",
     "text": [
      "010100110110000101101100011101010111010000\n"
     ]
    }
   ],
   "source": [
    "chaine_a_trier = regroupeString(DeciToBin(\"U2FsdXQ=\", table_base64))\n",
    "print(chaine_a_trier)\n"
   ],
   "metadata": {
    "collapsed": false,
    "pycharm": {
     "name": "#%%\n"
    }
   }
  },
  {
   "cell_type": "code",
   "execution_count": 37,
   "outputs": [
    {
     "name": "stdout",
     "output_type": "stream",
     "text": [
      "42\n",
      "40\n"
     ]
    },
    {
     "data": {
      "text/plain": "'0101001101100001011011000111010101110100'"
     },
     "execution_count": 37,
     "metadata": {},
     "output_type": "execute_result"
    }
   ],
   "source": [
    "def verifmodulo8(valeur):\n",
    "    print(len(valeur))\n",
    "    while len(valeur) % 8 != 0:\n",
    "        valeur = valeur[:-1]\n",
    "\n",
    "    print(len(valeur))\n",
    "    return valeur\n",
    "verifmodulo8(\"010100110110000101101100011101010111010000\")"
   ],
   "metadata": {
    "collapsed": false,
    "pycharm": {
     "name": "#%%\n"
    }
   }
  },
  {
   "cell_type": "code",
   "execution_count": 38,
   "outputs": [
    {
     "name": "stdout",
     "output_type": "stream",
     "text": [
      "84\n",
      "80\n",
      "01010011011000010110110001110101011101000110000101110100011010010110111101101110\n",
      "01010011 => base_64 => 83\n",
      "01100001 => base_64 => 97\n",
      "01101100 => base_64 => 108\n",
      "01110101 => base_64 => 117\n",
      "01110100 => base_64 => 116\n",
      "01100001 => base_64 => 97\n",
      "01110100 => base_64 => 116\n",
      "01101001 => base_64 => 105\n",
      "01101111 => base_64 => 111\n",
      "01101110 => base_64 => 110\n"
     ]
    },
    {
     "data": {
      "text/plain": "[83, 97, 108, 117, 116, 97, 116, 105, 111, 110]"
     },
     "execution_count": 38,
     "metadata": {},
     "output_type": "execute_result"
    }
   ],
   "source": [
    "def regroupe_String(string, base):\n",
    "\n",
    "    listValeurRegroupe = []\n",
    "    listValeur64Regroupe = []\n",
    "    binmot = regroupeString(DeciToBin(string, base))\n",
    "    modulo8 = verifmodulo8(binmot)\n",
    "    print(modulo8)\n",
    "    i=0\n",
    "    while i < len(modulo8):\n",
    "        b = modulo8[i:8+i]\n",
    "        listValeurRegroupe.append(b)\n",
    "        i+=8\n",
    "        listValeur64Regroupe.append(int(b, 2))\n",
    "\n",
    "    for j in range(len(listValeurRegroupe)):\n",
    "        print(listValeurRegroupe[j], \"=> base_64 =>\", listValeur64Regroupe[j]) # pour que ca sois beau\n",
    "\n",
    "    return listValeur64Regroupe\n",
    "\n",
    "\n",
    "\n",
    "regroupe_String(\"U2FsdXRhdGlvbg==\", table_base64)"
   ],
   "metadata": {
    "collapsed": false,
    "pycharm": {
     "name": "#%%\n"
    }
   }
  },
  {
   "cell_type": "code",
   "execution_count": 41,
   "outputs": [
    {
     "name": "stdout",
     "output_type": "stream",
     "text": [
      "2904\n",
      "2904\n",
      "010001110110110001110110011101100110110001110000011110000110111101101000001000000110011101100100011100010111011000100000011011110110100000100000011101100110110001101111011010000111000101100110011010000010000001010111011010000111011000100000011101100110100001110001011101110110110001110000011010000111000101110111011101100010000001100111011010000111011000100000011010000111011001110011011010000111010101100100011100010110011001101000011101100010000001010100011110000110110000100000011100000111001001110001011101110110100001110001011101110010000001101000011101110010000001110011011011110111001001110001011010100110100001110001011101110010000001110110011001000111000101110110001000000110010101110101011110000110110001110111001000000100100001110111011100100110110001101111011010000010000001100101011101010110110001101111011011110110010001110001011101110010000001100111011001000111000101110110001000000110111101100100001000000111000101111000011011000111011100100000010101010111000000100000011110000111000000100000011001000111101001100110011001110111010001110000011110010110010000100000011101010111000000100000011110000111000000100000011000110110110001100001011000010111000001110111011101110111000000100000010001010110001101110000011001000010000001101111011110100110011001101110011100000111100001110000011110010110010100100000011101010111101001100110011011000111010001100101001000000111011101110000001000000110011101110000011110010110010100100000010011000111011101111010011000110110010000100000011100000111011101110111011100000010000001111000011100000010000001100100011100000111100001101101011101110110110001110100011001010010000001100100011101000010000001101101011100000111011101110111011100000010000001001100011101110111101001100011011001000010000001111000011110100111010000100000011101010010011101101100011001110110110001110100011001000010000001100101011110100110011001100101001000000111011101110000001000000110010101110000011110000110000101100100001000000101011001100001011010110110101101100001011001010110110101100100011101110010000001110110011100110110011001101011001000000110010001110111001000000110101101100001011001000111011101100110011101010111011100100000010011000111011101101011001000000110101101110111011001100110110001100001011001010111011101100110011011000110101100100000011101100111011101101011001000000111011101101011011010000111011101101010011100110110011001110101011101110110101100100000010010010110110101100001001000000110010101100111011001100110110001110111011001100110110000100000011101110110110000100000011010000110010001100111011001100111100101110111011001100110110000100000011010110111001101100110011010110010000001110100011010100110110101100001011011000010000001010111011011000110011101100001011001000111011100100000011101000110101001100001011001000110010001110011011001100110110000100000011101100111001101100110011010110010000001100100011100110010000001100110011011010110000101101100\n",
      "01000111 => base_64 => 71\n",
      "01101100 => base_64 => 108\n",
      "01110110 => base_64 => 118\n",
      "01110110 => base_64 => 118\n",
      "01101100 => base_64 => 108\n",
      "01110000 => base_64 => 112\n",
      "01111000 => base_64 => 120\n",
      "01101111 => base_64 => 111\n",
      "01101000 => base_64 => 104\n",
      "00100000 => base_64 => 32\n",
      "01100111 => base_64 => 103\n",
      "01100100 => base_64 => 100\n",
      "01110001 => base_64 => 113\n",
      "01110110 => base_64 => 118\n",
      "00100000 => base_64 => 32\n",
      "01101111 => base_64 => 111\n",
      "01101000 => base_64 => 104\n",
      "00100000 => base_64 => 32\n",
      "01110110 => base_64 => 118\n",
      "01101100 => base_64 => 108\n",
      "01101111 => base_64 => 111\n",
      "01101000 => base_64 => 104\n",
      "01110001 => base_64 => 113\n",
      "01100110 => base_64 => 102\n",
      "01101000 => base_64 => 104\n",
      "00100000 => base_64 => 32\n",
      "01010111 => base_64 => 87\n",
      "01101000 => base_64 => 104\n",
      "01110110 => base_64 => 118\n",
      "00100000 => base_64 => 32\n",
      "01110110 => base_64 => 118\n",
      "01101000 => base_64 => 104\n",
      "01110001 => base_64 => 113\n",
      "01110111 => base_64 => 119\n",
      "01101100 => base_64 => 108\n",
      "01110000 => base_64 => 112\n",
      "01101000 => base_64 => 104\n",
      "01110001 => base_64 => 113\n",
      "01110111 => base_64 => 119\n",
      "01110110 => base_64 => 118\n",
      "00100000 => base_64 => 32\n",
      "01100111 => base_64 => 103\n",
      "01101000 => base_64 => 104\n",
      "01110110 => base_64 => 118\n",
      "00100000 => base_64 => 32\n",
      "01101000 => base_64 => 104\n",
      "01110110 => base_64 => 118\n",
      "01110011 => base_64 => 115\n",
      "01101000 => base_64 => 104\n",
      "01110101 => base_64 => 117\n",
      "01100100 => base_64 => 100\n",
      "01110001 => base_64 => 113\n",
      "01100110 => base_64 => 102\n",
      "01101000 => base_64 => 104\n",
      "01110110 => base_64 => 118\n",
      "00100000 => base_64 => 32\n",
      "01010100 => base_64 => 84\n",
      "01111000 => base_64 => 120\n",
      "01101100 => base_64 => 108\n",
      "00100000 => base_64 => 32\n",
      "01110000 => base_64 => 112\n",
      "01110010 => base_64 => 114\n",
      "01110001 => base_64 => 113\n",
      "01110111 => base_64 => 119\n",
      "01101000 => base_64 => 104\n",
      "01110001 => base_64 => 113\n",
      "01110111 => base_64 => 119\n",
      "00100000 => base_64 => 32\n",
      "01101000 => base_64 => 104\n",
      "01110111 => base_64 => 119\n",
      "00100000 => base_64 => 32\n",
      "01110011 => base_64 => 115\n",
      "01101111 => base_64 => 111\n",
      "01110010 => base_64 => 114\n",
      "01110001 => base_64 => 113\n",
      "01101010 => base_64 => 106\n",
      "01101000 => base_64 => 104\n",
      "01110001 => base_64 => 113\n",
      "01110111 => base_64 => 119\n",
      "00100000 => base_64 => 32\n",
      "01110110 => base_64 => 118\n",
      "01100100 => base_64 => 100\n",
      "01110001 => base_64 => 113\n",
      "01110110 => base_64 => 118\n",
      "00100000 => base_64 => 32\n",
      "01100101 => base_64 => 101\n",
      "01110101 => base_64 => 117\n",
      "01111000 => base_64 => 120\n",
      "01101100 => base_64 => 108\n",
      "01110111 => base_64 => 119\n",
      "00100000 => base_64 => 32\n",
      "01001000 => base_64 => 72\n",
      "01110111 => base_64 => 119\n",
      "01110010 => base_64 => 114\n",
      "01101100 => base_64 => 108\n",
      "01101111 => base_64 => 111\n",
      "01101000 => base_64 => 104\n",
      "00100000 => base_64 => 32\n",
      "01100101 => base_64 => 101\n",
      "01110101 => base_64 => 117\n",
      "01101100 => base_64 => 108\n",
      "01101111 => base_64 => 111\n",
      "01101111 => base_64 => 111\n",
      "01100100 => base_64 => 100\n",
      "01110001 => base_64 => 113\n",
      "01110111 => base_64 => 119\n",
      "00100000 => base_64 => 32\n",
      "01100111 => base_64 => 103\n",
      "01100100 => base_64 => 100\n",
      "01110001 => base_64 => 113\n",
      "01110110 => base_64 => 118\n",
      "00100000 => base_64 => 32\n",
      "01101111 => base_64 => 111\n",
      "01100100 => base_64 => 100\n",
      "00100000 => base_64 => 32\n",
      "01110001 => base_64 => 113\n",
      "01111000 => base_64 => 120\n",
      "01101100 => base_64 => 108\n",
      "01110111 => base_64 => 119\n",
      "00100000 => base_64 => 32\n",
      "01010101 => base_64 => 85\n",
      "01110000 => base_64 => 112\n",
      "00100000 => base_64 => 32\n",
      "01111000 => base_64 => 120\n",
      "01110000 => base_64 => 112\n",
      "00100000 => base_64 => 32\n",
      "01100100 => base_64 => 100\n",
      "01111010 => base_64 => 122\n",
      "01100110 => base_64 => 102\n",
      "01100111 => base_64 => 103\n",
      "01110100 => base_64 => 116\n",
      "01110000 => base_64 => 112\n",
      "01111001 => base_64 => 121\n",
      "01100100 => base_64 => 100\n",
      "00100000 => base_64 => 32\n",
      "01110101 => base_64 => 117\n",
      "01110000 => base_64 => 112\n",
      "00100000 => base_64 => 32\n",
      "01111000 => base_64 => 120\n",
      "01110000 => base_64 => 112\n",
      "00100000 => base_64 => 32\n",
      "01100011 => base_64 => 99\n",
      "01101100 => base_64 => 108\n",
      "01100001 => base_64 => 97\n",
      "01100001 => base_64 => 97\n",
      "01110000 => base_64 => 112\n",
      "01110111 => base_64 => 119\n",
      "01110111 => base_64 => 119\n",
      "01110000 => base_64 => 112\n",
      "00100000 => base_64 => 32\n",
      "01000101 => base_64 => 69\n",
      "01100011 => base_64 => 99\n",
      "01110000 => base_64 => 112\n",
      "01100100 => base_64 => 100\n",
      "00100000 => base_64 => 32\n",
      "01101111 => base_64 => 111\n",
      "01111010 => base_64 => 122\n",
      "01100110 => base_64 => 102\n",
      "01101110 => base_64 => 110\n",
      "01110000 => base_64 => 112\n",
      "01111000 => base_64 => 120\n",
      "01110000 => base_64 => 112\n",
      "01111001 => base_64 => 121\n",
      "01100101 => base_64 => 101\n",
      "00100000 => base_64 => 32\n",
      "01110101 => base_64 => 117\n",
      "01111010 => base_64 => 122\n",
      "01100110 => base_64 => 102\n",
      "01101100 => base_64 => 108\n",
      "01110100 => base_64 => 116\n",
      "01100101 => base_64 => 101\n",
      "00100000 => base_64 => 32\n",
      "01110111 => base_64 => 119\n",
      "01110000 => base_64 => 112\n",
      "00100000 => base_64 => 32\n",
      "01100111 => base_64 => 103\n",
      "01110000 => base_64 => 112\n",
      "01111001 => base_64 => 121\n",
      "01100101 => base_64 => 101\n",
      "00100000 => base_64 => 32\n",
      "01001100 => base_64 => 76\n",
      "01110111 => base_64 => 119\n",
      "01111010 => base_64 => 122\n",
      "01100011 => base_64 => 99\n",
      "01100100 => base_64 => 100\n",
      "00100000 => base_64 => 32\n",
      "01110000 => base_64 => 112\n",
      "01110111 => base_64 => 119\n",
      "01110111 => base_64 => 119\n",
      "01110000 => base_64 => 112\n",
      "00100000 => base_64 => 32\n",
      "01111000 => base_64 => 120\n",
      "01110000 => base_64 => 112\n",
      "00100000 => base_64 => 32\n",
      "01100100 => base_64 => 100\n",
      "01110000 => base_64 => 112\n",
      "01111000 => base_64 => 120\n",
      "01101101 => base_64 => 109\n",
      "01110111 => base_64 => 119\n",
      "01101100 => base_64 => 108\n",
      "01110100 => base_64 => 116\n",
      "01100101 => base_64 => 101\n",
      "00100000 => base_64 => 32\n",
      "01100100 => base_64 => 100\n",
      "01110100 => base_64 => 116\n",
      "00100000 => base_64 => 32\n",
      "01101101 => base_64 => 109\n",
      "01110000 => base_64 => 112\n",
      "01110111 => base_64 => 119\n",
      "01110111 => base_64 => 119\n",
      "01110000 => base_64 => 112\n",
      "00100000 => base_64 => 32\n",
      "01001100 => base_64 => 76\n",
      "01110111 => base_64 => 119\n",
      "01111010 => base_64 => 122\n",
      "01100011 => base_64 => 99\n",
      "01100100 => base_64 => 100\n",
      "00100000 => base_64 => 32\n",
      "01111000 => base_64 => 120\n",
      "01111010 => base_64 => 122\n",
      "01110100 => base_64 => 116\n",
      "00100000 => base_64 => 32\n",
      "01110101 => base_64 => 117\n",
      "00100111 => base_64 => 39\n",
      "01101100 => base_64 => 108\n",
      "01100111 => base_64 => 103\n",
      "01101100 => base_64 => 108\n",
      "01110100 => base_64 => 116\n",
      "01100100 => base_64 => 100\n",
      "00100000 => base_64 => 32\n",
      "01100101 => base_64 => 101\n",
      "01111010 => base_64 => 122\n",
      "01100110 => base_64 => 102\n",
      "01100101 => base_64 => 101\n",
      "00100000 => base_64 => 32\n",
      "01110111 => base_64 => 119\n",
      "01110000 => base_64 => 112\n",
      "00100000 => base_64 => 32\n",
      "01100101 => base_64 => 101\n",
      "01110000 => base_64 => 112\n",
      "01111000 => base_64 => 120\n",
      "01100001 => base_64 => 97\n",
      "01100100 => base_64 => 100\n",
      "00100000 => base_64 => 32\n",
      "01010110 => base_64 => 86\n",
      "01100001 => base_64 => 97\n",
      "01101011 => base_64 => 107\n",
      "01101011 => base_64 => 107\n",
      "01100001 => base_64 => 97\n",
      "01100101 => base_64 => 101\n",
      "01101101 => base_64 => 109\n",
      "01100100 => base_64 => 100\n",
      "01110111 => base_64 => 119\n",
      "00100000 => base_64 => 32\n",
      "01110110 => base_64 => 118\n",
      "01110011 => base_64 => 115\n",
      "01100110 => base_64 => 102\n",
      "01101011 => base_64 => 107\n",
      "00100000 => base_64 => 32\n",
      "01100100 => base_64 => 100\n",
      "01110111 => base_64 => 119\n",
      "00100000 => base_64 => 32\n",
      "01101011 => base_64 => 107\n",
      "01100001 => base_64 => 97\n",
      "01100100 => base_64 => 100\n",
      "01110111 => base_64 => 119\n",
      "01100110 => base_64 => 102\n",
      "01110101 => base_64 => 117\n",
      "01110111 => base_64 => 119\n",
      "00100000 => base_64 => 32\n",
      "01001100 => base_64 => 76\n",
      "01110111 => base_64 => 119\n",
      "01101011 => base_64 => 107\n",
      "00100000 => base_64 => 32\n",
      "01101011 => base_64 => 107\n",
      "01110111 => base_64 => 119\n",
      "01100110 => base_64 => 102\n",
      "01101100 => base_64 => 108\n",
      "01100001 => base_64 => 97\n",
      "01100101 => base_64 => 101\n",
      "01110111 => base_64 => 119\n",
      "01100110 => base_64 => 102\n",
      "01101100 => base_64 => 108\n",
      "01101011 => base_64 => 107\n",
      "00100000 => base_64 => 32\n",
      "01110110 => base_64 => 118\n",
      "01110111 => base_64 => 119\n",
      "01101011 => base_64 => 107\n",
      "00100000 => base_64 => 32\n",
      "01110111 => base_64 => 119\n",
      "01101011 => base_64 => 107\n",
      "01101000 => base_64 => 104\n",
      "01110111 => base_64 => 119\n",
      "01101010 => base_64 => 106\n",
      "01110011 => base_64 => 115\n",
      "01100110 => base_64 => 102\n",
      "01110101 => base_64 => 117\n",
      "01110111 => base_64 => 119\n",
      "01101011 => base_64 => 107\n",
      "00100000 => base_64 => 32\n",
      "01001001 => base_64 => 73\n",
      "01101101 => base_64 => 109\n",
      "01100001 => base_64 => 97\n",
      "00100000 => base_64 => 32\n",
      "01100101 => base_64 => 101\n",
      "01100111 => base_64 => 103\n",
      "01100110 => base_64 => 102\n",
      "01101100 => base_64 => 108\n",
      "01110111 => base_64 => 119\n",
      "01100110 => base_64 => 102\n",
      "01101100 => base_64 => 108\n",
      "00100000 => base_64 => 32\n",
      "01110111 => base_64 => 119\n",
      "01101100 => base_64 => 108\n",
      "00100000 => base_64 => 32\n",
      "01101000 => base_64 => 104\n",
      "01100100 => base_64 => 100\n",
      "01100111 => base_64 => 103\n",
      "01100110 => base_64 => 102\n",
      "01111001 => base_64 => 121\n",
      "01110111 => base_64 => 119\n",
      "01100110 => base_64 => 102\n",
      "01101100 => base_64 => 108\n",
      "00100000 => base_64 => 32\n",
      "01101011 => base_64 => 107\n",
      "01110011 => base_64 => 115\n",
      "01100110 => base_64 => 102\n",
      "01101011 => base_64 => 107\n",
      "00100000 => base_64 => 32\n",
      "01110100 => base_64 => 116\n",
      "01101010 => base_64 => 106\n",
      "01101101 => base_64 => 109\n",
      "01100001 => base_64 => 97\n",
      "01101100 => base_64 => 108\n",
      "00100000 => base_64 => 32\n",
      "01010111 => base_64 => 87\n",
      "01101100 => base_64 => 108\n",
      "01100111 => base_64 => 103\n",
      "01100001 => base_64 => 97\n",
      "01100100 => base_64 => 100\n",
      "01110111 => base_64 => 119\n",
      "00100000 => base_64 => 32\n",
      "01110100 => base_64 => 116\n",
      "01101010 => base_64 => 106\n",
      "01100001 => base_64 => 97\n",
      "01100100 => base_64 => 100\n",
      "01100100 => base_64 => 100\n",
      "01110011 => base_64 => 115\n",
      "01100110 => base_64 => 102\n",
      "01101100 => base_64 => 108\n",
      "00100000 => base_64 => 32\n",
      "01110110 => base_64 => 118\n",
      "01110011 => base_64 => 115\n",
      "01100110 => base_64 => 102\n",
      "01101011 => base_64 => 107\n",
      "00100000 => base_64 => 32\n",
      "01100100 => base_64 => 100\n",
      "01110011 => base_64 => 115\n",
      "00100000 => base_64 => 32\n",
      "01100110 => base_64 => 102\n",
      "01101101 => base_64 => 109\n",
      "01100001 => base_64 => 97\n",
      "01101100 => base_64 => 108\n"
     ]
    },
    {
     "data": {
      "text/plain": "\"Glvvlpxoh gdqv oh vlohqfh Whv vhqwlphqwv ghv hvshudqfhv Txl prqwhqw hw sorqjhqw vdqv euxlw Hwrloh euloodqw gdqv od qxlw Up xp dzfgtpyd up xp claapwwp Ecpd ozfnpxpye uzflte wp gpye Lwzcd pwwp xp dpxmwlte dt mpwwp Lwzcd xzt u'lgltd ezfe wp epxad Vakkaemdw vsfk dw kadwfuw Lwk kwflaewflk vwk wkhwjsfuwk Ima egflwfl wl hdgfywfl ksfk tjmal Wlgadw tjaddsfl vsfk ds fmal\""
     },
     "execution_count": 41,
     "metadata": {},
     "output_type": "execute_result"
    }
   ],
   "source": [
    "def decode_base(texte, base):\n",
    "    texte = texte.replace(\"=\",\"\")\n",
    "    list_nombre = regroupe_String(texte, base)\n",
    "    list_solus = []\n",
    "    for i in list_nombre:\n",
    "        list_solus.append(chr(i))\n",
    "    solus = \"\".join(list_solus)\n",
    "    return solus\n",
    "\n",
    "\n",
    "decode_base(\"R2x2dmxweG9oIGdkcXYgb2ggdmxvaHFmaCBXaHYgdmhxd2xwaHF3diBnaHYgaHZzaHVkcWZodiBUeGwgcHJxd2hxdyBodyBzb3JxamhxdyB2ZHF2IGV1eGx3IEh3cmxvaCBldWxvb2RxdyBnZHF2IG9kIHF4bHcgVXAgeHAgZHpmZ3RweWQgdXAgeHAgY2xhYXB3d3AgRWNwZCBvemZucHhweWUgdXpmbHRlIHdwIGdweWUgTHd6Y2QgcHd3cCB4cCBkcHhtd2x0ZSBkdCBtcHd3cCBMd3pjZCB4enQgdSdsZ2x0ZCBlemZlIHdwIGVweGFkIFZha2thZW1kdyB2c2ZrIGR3IGthZHdmdXcgTHdrIGt3ZmxhZXdmbGsgdndrIHdraHdqc2Z1d2sgSW1hIGVnZmx3Zmwgd2wgaGRnZnl3Zmwga3NmayB0am1hbCBXbGdhZHcgdGphZGRzZmwgdnNmayBkcyBmbWFs\", table_base64)"
   ],
   "metadata": {
    "collapsed": false,
    "pycharm": {
     "name": "#%%\n"
    }
   }
  },
  {
   "cell_type": "code",
   "execution_count": 16,
   "outputs": [],
   "source": [],
   "metadata": {
    "collapsed": false,
    "pycharm": {
     "name": "#%%\n"
    }
   }
  },
  {
   "cell_type": "code",
   "execution_count": 16,
   "outputs": [],
   "source": [],
   "metadata": {
    "collapsed": false,
    "pycharm": {
     "name": "#%%\n"
    }
   }
  },
  {
   "cell_type": "code",
   "execution_count": 16,
   "outputs": [],
   "source": [],
   "metadata": {
    "collapsed": false,
    "pycharm": {
     "name": "#%%\n"
    }
   }
  }
 ],
 "metadata": {
  "kernelspec": {
   "display_name": "Python 3",
   "language": "python",
   "name": "python3"
  },
  "language_info": {
   "codemirror_mode": {
    "name": "ipython",
    "version": 2
   },
   "file_extension": ".py",
   "mimetype": "text/x-python",
   "name": "python",
   "nbconvert_exporter": "python",
   "pygments_lexer": "ipython2",
   "version": "2.7.6"
  }
 },
 "nbformat": 4,
 "nbformat_minor": 0
}